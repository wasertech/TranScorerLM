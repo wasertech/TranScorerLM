{
  "cells": [
    {
      "attachments": {},
      "cell_type": "markdown",
      "metadata": {
        "id": "MRGJBWPcMIYh"
      },
      "source": [
        "# TranScorer for STT\n",
        "\n",
        "Train a transformer to compute the vector from your accoustic model to a character representation of your speech."
      ]
    },
    {
      "cell_type": "code",
      "execution_count": 1,
      "metadata": {
        "id": "gNVMBZuWHQhz"
      },
      "outputs": [
        {
          "name": "stdout",
          "output_type": "stream",
          "text": [
            "Sun Mar  5 22:09:22 2023       \n",
            "+-----------------------------------------------------------------------------+\n",
            "| NVIDIA-SMI 525.89.02    Driver Version: 525.89.02    CUDA Version: 12.0     |\n",
            "|-------------------------------+----------------------+----------------------+\n",
            "| GPU  Name        Persistence-M| Bus-Id        Disp.A | Volatile Uncorr. ECC |\n",
            "| Fan  Temp  Perf  Pwr:Usage/Cap|         Memory-Usage | GPU-Util  Compute M. |\n",
            "|                               |                      |               MIG M. |\n",
            "|===============================+======================+======================|\n",
            "|   0  NVIDIA GeForce ...  Off  | 00000000:43:00.0  On |                  N/A |\n",
            "|  0%   59C    P3    39W / 170W |    611MiB / 12288MiB |     15%      Default |\n",
            "|                               |                      |                  N/A |\n",
            "+-------------------------------+----------------------+----------------------+\n",
            "                                                                               \n",
            "+-----------------------------------------------------------------------------+\n",
            "| Processes:                                                                  |\n",
            "|  GPU   GI   CI        PID   Type   Process name                  GPU Memory |\n",
            "|        ID   ID                                                   Usage      |\n",
            "|=============================================================================|\n",
            "|    0   N/A  N/A      1295      G   /usr/lib/Xorg                     183MiB |\n",
            "|    0   N/A  N/A      1390      G   /usr/bin/gnome-shell              123MiB |\n",
            "|    0   N/A  N/A      2478      G   ...584638743818237573,131072      196MiB |\n",
            "|    0   N/A  N/A      3058      G   ...RendererForSitePerProcess      105MiB |\n",
            "+-----------------------------------------------------------------------------+\n"
          ]
        }
      ],
      "source": [
        "# Check if you have access to the smi\n",
        "gpu_info = !nvidia-smi\n",
        "gpu_info = '\\n'.join(gpu_info)\n",
        "if gpu_info.find('failed') >= 0:\n",
        "  print('Not connected to a GPU')\n",
        "else:\n",
        "  print(gpu_info)"
      ]
    },
    {
      "attachments": {},
      "cell_type": "markdown",
      "metadata": {},
      "source": [
        "# Installing TranScorerLM"
      ]
    },
    {
      "cell_type": "code",
      "execution_count": null,
      "metadata": {},
      "outputs": [],
      "source": [
        "!pip install git+https://github.com/wasertech/TranScorerLM.git"
      ]
    },
    {
      "attachments": {},
      "cell_type": "markdown",
      "metadata": {
        "id": "Xau1aJRPuPYi"
      },
      "source": [
        "## Dataset\n",
        "Use `datasets.load_dataset()` to load you datasets."
      ]
    },
    {
      "cell_type": "code",
      "execution_count": null,
      "metadata": {},
      "outputs": [],
      "source": [
        "from pathlib import  Path\n",
        "from glob import glob\n",
        "from datasets import  DatasetDict, load_dataset\n",
        "\n",
        "def load_wav2txt(data_path: Path):\n",
        "    if data_path.exists() and data_path.isdir():\n",
        "        wav2txt = DatasetDict()\n",
        "        train_files = glob(f\"{str(data_path)}/**/*-train.csv\")\n",
        "        dev_files = glob(f\"{str(data_path)}/**/*-dev.csv\")\n",
        "        test_files = glob(f\"{str(data_path)}/**/*-test.csv\")\n",
        "\n",
        "        wav2txt['train'] = load_dataset('csv', data_files=train_files)\n",
        "        wav2txt['eval'] = load_dataset('csv', data_files=dev_files)\n",
        "        wav2txt['test'] = load_dataset('csv', data_files=test_files)\n",
        "\n",
        "        return wav2txt\n",
        "    else:\n",
        "        raise Exception(f\"Invalid data_path. {data_path} doesn't exists or is not a directory.\")\n",
        "\n",
        "w2t = load_wav2txt(\"./wav2txt\")\n",
        "\n",
        "w2t"
      ]
    },
    {
      "attachments": {},
      "cell_type": "markdown",
      "metadata": {
        "id": "34dXeOeb3y8R"
      },
      "source": [
        "## Training a Scorer"
      ]
    },
    {
      "cell_type": "code",
      "execution_count": null,
      "metadata": {},
      "outputs": [],
      "source": [
        "!trainscorer \\\n",
        "    --model_name_or_path \"./transcorer\" \\\n",
        "    --dataset_name \"common_voice\" \\\n",
        "    --audio_column_name wav \\\n",
        "    --label_column_name language \\\n",
        "    --output_dir \"./transcorer/models\" \\\n",
        "    --overwrite_output_dir \\\n",
        "    --remove_unused_columns False \\\n",
        "    --do_train \\\n",
        "    --do_eval \\\n",
        "    --fp16 \\\n",
        "    --learning_rate 3e-4 \\\n",
        "    --max_length_seconds 16 \\\n",
        "    --attention_mask False \\\n",
        "    --warmup_ratio 0.1 \\\n",
        "    --num_train_epochs 10 \\\n",
        "    --per_device_train_batch_size 8 \\\n",
        "    --gradient_accumulation_steps 4 \\\n",
        "    --per_device_eval_batch_size 1 \\\n",
        "    --dataloader_num_workers 8 \\\n",
        "    --logging_strategy steps \\\n",
        "    --logging_steps 10 \\\n",
        "    --evaluation_strategy epoch \\\n",
        "    --save_strategy epoch \\\n",
        "    --load_best_model_at_end True \\\n",
        "    --metric_for_best_model accuracy \\\n",
        "    --save_total_limit 3 \\\n",
        "    --seed 0 \\\n",
        "    --push_to_hub"
      ]
    },
    {
      "attachments": {},
      "cell_type": "markdown",
      "metadata": {},
      "source": [
        "# Testing your model"
      ]
    },
    {
      "cell_type": "code",
      "execution_count": null,
      "metadata": {},
      "outputs": [],
      "source": [
        "from transformers import Wav2Vec2ProcessorWithLM, AutoModelForCTC,\n",
        "from datasets import load_dataset\n",
        "import torch\n",
        " \n",
        "# load model and tokenizer\n",
        "processor = Wav2Vec2ProcessorWithLM.from_pretrained(\"./transcorer\")\n",
        "model = AutoModelForCTC.from_pretrained(\"./transcorer\")\n",
        "\n",
        "# load dummy dataset and read soundfiles\n",
        "test_ds = load_dataset('csv', data_files=['file_1-test.csv', 'file_2-test.csv'])\n",
        "\n",
        "# tokenize\n",
        "input_values = processor(test_ds[0][\"wav\"][\"array\"], return_tensors=\"pt\", padding=\"longest\").input_values  # Batch size 1\n",
        "\n",
        "# retrieve logits\n",
        "logits = model(input_values).logits\n",
        "\n",
        "# take argmax and decode\n",
        "predicted_ids = torch.argmax(logits, dim=-1)\n",
        "transcription = processor.batch_decode(predicted_ids)\n",
        "\n",
        "transcription"
      ]
    }
  ],
  "metadata": {
    "colab": {
      "collapsed_sections": [
        "1LtHoK_PNiVO"
      ],
      "machine_shape": "hm",
      "provenance": []
    },
    "kernelspec": {
      "display_name": "Python 3",
      "language": "python",
      "name": "python3"
    },
    "language_info": {
      "codemirror_mode": {
        "name": "ipython",
        "version": 3
      },
      "file_extension": ".py",
      "mimetype": "text/x-python",
      "name": "python",
      "nbconvert_exporter": "python",
      "pygments_lexer": "ipython3",
      "version": "3.10.9 (main, Dec 19 2022, 17:35:49) [GCC 12.2.0]"
    },
    "vscode": {
      "interpreter": {
        "hash": "767d51c1340bd893661ea55ea3124f6de3c7a262a8b4abca0554b478b1e2ff90"
      }
    }
  },
  "nbformat": 4,
  "nbformat_minor": 0
}
